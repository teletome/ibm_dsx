{
    "metadata": {
        "language_info": {
            "codemirror_mode": {
                "name": "ipython", 
                "version": 2
            }, 
            "file_extension": ".py", 
            "pygments_lexer": "ipython2", 
            "nbconvert_exporter": "python", 
            "mimetype": "text/x-python", 
            "name": "python", 
            "version": "2.7.11"
        }, 
        "kernelspec": {
            "name": "python2", 
            "language": "python", 
            "display_name": "Python 2 with Spark 1.6"
        }
    }, 
    "nbformat": 4, 
    "nbformat_minor": 0, 
    "cells": [
        {
            "source": "# <span style=\"color:blue\">Introduction to Brunel</span>", 
            "metadata": {}, 
            "cell_type": "markdown"
        }, 
        {
            "source": "## Detailed Brunel documentation can be found at: http://brunel.mybluemix.net/docs/Brunel%20Documentation.pdf", 
            "metadata": {}, 
            "cell_type": "markdown"
        }, 
        {
            "source": "## In the few examples below, we will be using the data set at the following location: http://brunel.mybluemix.net/sample_data/US%20States.csv\n\n### In the cell below, you can see a short snippet of the data. The header row is highligthed in <span style=\"color:blue\">blue</span>.", 
            "metadata": {}, 
            "cell_type": "markdown"
        }, 
        {
            "source": "<span style=\"color:blue\"> Abbr,State,Date,Region,Population,Under 18,Area,Latitude,Longitude,Water,Density,Summer,Winter,Rain,Violent Crimes,Income,Dem/Rep,Presidential Choice,Boys Name,Girls Name</span><br>AL,Alabama,1819-12-14,South,4849377,22.8,52420,32.74,-86.84,3.5,92.5,78.6,46.5,58.3,425,41415,-22.2,Romney,William,Eva<br>AK,Alaska,1959-01-03,Pacific,736732,25.3,665384,63.35,-152.84,16.6,1.1,52.3,2.6,22.5,688,69825,-14,Romney,Liam,Emma<br>AZ,Arizona,1912-02-14,Mountain,6731484,24.1,113990,34.21,-111.6,0.3,59.1,78.1,43.6,13.6,501,46709,-9.1,Romney,Noah,Sophia<br>AR,Arkansas,1836-06-15,South,2966369,23.8,53179,34.9,-92.44,2.2,55.8,78.8,41.5,50.6,552,38758,-23.7,Romney,Mason,Emma", 
            "metadata": {}, 
            "cell_type": "markdown"
        }, 
        {
            "source": "# Basics:\n### In brunel, we will almost systematically define an x and y axis and identify the variable or column name from the dataset which corresponds to each. Examples include x(latitude) y(longitude) if the intention is to plot a longitude versus latitude graph.\n### There are a few different ways the data can be displayed: point, bar, line, text, area, polygon, path. The default is point if nothing is specified.", 
            "metadata": {}, 
            "cell_type": "markdown"
        }, 
        {
            "source": "### First example, we wish to plot the Longitude versus Latitude from the dataset above, as points (default).", 
            "metadata": {}, 
            "cell_type": "markdown"
        }, 
        {
            "execution_count": null, 
            "source": "import brunel", 
            "metadata": {
                "collapsed": true
            }, 
            "outputs": [], 
            "cell_type": "code"
        }, 
        {
            "execution_count": null, 
            "source": "%brunel data(\"http://brunel.mybluemix.net/sample_data/US States.csv\") x(latitude) y(longitude)", 
            "metadata": {
                "scrolled": false, 
                "collapsed": false
            }, 
            "outputs": [], 
            "cell_type": "code"
        }, 
        {
            "source": "### We can hover the mouse over the diagram above, when it takes the shape of a cross with 4 arrows, we can drag the diagram, or zoom-in zoom-out using the mouse wheel.", 
            "metadata": {
                "collapsed": true
            }, 
            "cell_type": "markdown"
        }, 
        {
            "source": "### Instead of points, we can represent our data set as a line.", 
            "metadata": {}, 
            "cell_type": "markdown"
        }, 
        {
            "execution_count": null, 
            "source": "%brunel data(\"http://brunel.mybluemix.net/sample_data/US States.csv\") x(latitude) y(longitude) line", 
            "metadata": {
                "collapsed": false
            }, 
            "outputs": [], 
            "cell_type": "code"
        }, 
        {
            "source": "### The data can then be grouped according to another attribute, such as the \"region\" attribute in the data set. This can be done to point or line graphs.", 
            "metadata": {}, 
            "cell_type": "markdown"
        }, 
        {
            "execution_count": null, 
            "source": "%brunel data(\"http://brunel.mybluemix.net/sample_data/US States.csv\") x(latitude) y(longitude) point color(region)", 
            "metadata": {
                "collapsed": false
            }, 
            "outputs": [], 
            "cell_type": "code"
        }, 
        {
            "source": "### We can now plot the summer temperature in each state, as bars, still grouping each region in a different color", 
            "metadata": {}, 
            "cell_type": "markdown"
        }, 
        {
            "execution_count": null, 
            "source": "%brunel data(\"http://brunel.mybluemix.net/sample_data/US States.csv\") x(state) y(summer) bar color(region)", 
            "metadata": {
                "collapsed": false
            }, 
            "outputs": [], 
            "cell_type": "code"
        }, 
        {
            "source": "### Transpose the graph using the corresponding keyword.", 
            "metadata": {}, 
            "cell_type": "markdown"
        }, 
        {
            "execution_count": null, 
            "source": "%brunel data(\"http://brunel.mybluemix.net/sample_data/US States.csv\") x(state) y(summer) bar transpose color(region)", 
            "metadata": {
                "collapsed": false
            }, 
            "outputs": [], 
            "cell_type": "code"
        }, 
        {
            "source": "### The \"tooltip\" keyword is used to instruct brunel to display the underlying data when you hover on the various sections of the graph. Try hovering the mouse over the diagram below.", 
            "metadata": {}, 
            "cell_type": "markdown"
        }, 
        {
            "execution_count": null, 
            "source": "%brunel data(\"http://brunel.mybluemix.net/sample_data/US States.csv\") x(state) y(summer) bar color(region) tooltip(state)", 
            "metadata": {
                "collapsed": false
            }, 
            "outputs": [], 
            "cell_type": "code"
        }, 
        {
            "source": "### When you plot a graph, you can have more than one single element on the Y axis (multiple 'series'). Here is an example below, where the X axis is still the state, as in the previous example, but the Y axis has both the summer and winter temperatures.", 
            "metadata": {}, 
            "cell_type": "markdown"
        }, 
        {
            "execution_count": null, 
            "source": "%brunel data(\"http://brunel.mybluemix.net/sample_data/US States.csv\") line x(state) y(summer, winter)", 
            "metadata": {
                "collapsed": false
            }, 
            "outputs": [], 
            "cell_type": "code"
        }, 
        {
            "source": "### We can also combine the line data with the point data, so we can see the various data points making the lines.", 
            "metadata": {}, 
            "cell_type": "markdown"
        }, 
        {
            "execution_count": null, 
            "source": "%brunel data(\"http://brunel.mybluemix.net/sample_data/US States.csv\") line x(state) y(summer, winter) + x(state) y(summer, winter)", 
            "metadata": {
                "collapsed": false
            }, 
            "outputs": [], 
            "cell_type": "code"
        }, 
        {
            "source": "### Next we can add colors again. We could identify different regions in the point data with colors as shown previously", 
            "metadata": {}, 
            "cell_type": "markdown"
        }, 
        {
            "execution_count": null, 
            "source": "%brunel data(\"http://brunel.mybluemix.net/sample_data/US States.csv\") line x(state) y(summer, winter) + x(state) y(summer, winter) color(region)", 
            "metadata": {
                "collapsed": false
            }, 
            "outputs": [], 
            "cell_type": "code"
        }, 
        {
            "source": "### But when working with multiple datasets on the Y axis, we can choose to color each \"series\" differently, leveraging the corresponding keyword", 
            "metadata": {}, 
            "cell_type": "markdown"
        }, 
        {
            "execution_count": null, 
            "source": "%brunel data(\"http://brunel.mybluemix.net/sample_data/US States.csv\") line x(state) y(summer, winter) color(#series) + x(state) y(summer, winter) color(#series)", 
            "metadata": {
                "collapsed": false
            }, 
            "outputs": [], 
            "cell_type": "code"
        }, 
        {
            "source": "### Adding tooltip again. Try hovering your mouse over the data points in the diagram below...", 
            "metadata": {
                "collapsed": true
            }, 
            "cell_type": "markdown"
        }, 
        {
            "execution_count": null, 
            "source": "%brunel data(\"http://brunel.mybluemix.net/sample_data/US States.csv\") line x(state) y(summer, winter) color(#series)+ x(state) y(summer, winter) color(#series) tooltip(state, \": \", #series, \" = \", #values)", 
            "metadata": {
                "collapsed": false
            }, 
            "outputs": [], 
            "cell_type": "code"
        }, 
        {
            "source": "### Additional example, using a bar graph.", 
            "metadata": {}, 
            "cell_type": "markdown"
        }, 
        {
            "execution_count": null, 
            "source": "%brunel data(\"http://brunel.mybluemix.net/sample_data/US States.csv\") bar x(state) yrange(summer, winter) sort(winter) tooltip(winter, summer)", 
            "metadata": {
                "collapsed": false
            }, 
            "outputs": [], 
            "cell_type": "code"
        }, 
        {
            "source": "### Another example with stacked bars, counting the number of entries for each summer temperature across all states.", 
            "metadata": {}, 
            "cell_type": "markdown"
        }, 
        {
            "execution_count": null, 
            "source": "%brunel data(\"http://brunel.mybluemix.net/sample_data/US States.csv\")  stack bar x(summer)  y(#count) color(region) tooltip(#all)", 
            "metadata": {
                "collapsed": false
            }, 
            "outputs": [], 
            "cell_type": "code"
        }, 
        {
            "source": "# <span style=\"color:blue\">Introduction to Spark-SQL and DataFrames</span>", 
            "metadata": {}, 
            "cell_type": "markdown"
        }, 
        {
            "source": "### A Spark dataframe can be thought of as the equivalent of an SQL table. As a matter of fact, a data frame can be saved as a table. The code in the cell below should be fairly straightforward. Data is loaded from a standard schema in an existing dashDB instance (Schema: GoSales, Table: Branch)", 
            "metadata": {
                "collapsed": true
            }, 
            "cell_type": "markdown"
        }, 
        {
            "execution_count": null, 
            "source": "salesDF = sqlContext.read.format('jdbc').\\\n          options(url='jdbc:db2://dashdb-entry-yp-dal09-10.services.dal.bluemix.net:50000/BLUDB:user=dash6431;password=wXDVudMyrnia;',\\\n                  dbtable='GOSALES.BRANCH').load()", 
            "metadata": {
                "collapsed": true
            }, 
            "outputs": [], 
            "cell_type": "code"
        }, 
        {
            "execution_count": null, 
            "source": "salesDF.show(2)", 
            "metadata": {
                "collapsed": false
            }, 
            "outputs": [], 
            "cell_type": "code"
        }, 
        {
            "source": "### Register the data frame as a temporary table", 
            "metadata": {}, 
            "cell_type": "markdown"
        }, 
        {
            "execution_count": null, 
            "source": "salesDF.registerTempTable(\"SalesTables\")", 
            "metadata": {
                "collapsed": true
            }, 
            "outputs": [], 
            "cell_type": "code"
        }, 
        {
            "source": "### Run some standard SQL statemens on the newly registered table", 
            "metadata": {}, 
            "cell_type": "markdown"
        }, 
        {
            "execution_count": null, 
            "source": "query = \"\"\"Select * from SalesTables where CITY = 'Toronto'\"\"\"\n\nmyDF = sqlContext.sql(query)\nmyDF.show()", 
            "metadata": {
                "collapsed": false
            }, 
            "outputs": [], 
            "cell_type": "code"
        }, 
        {
            "source": "### Once the table is registered as above, one can take full advantage of all SparkSQL capabilities, which is reasonably extended, although not ANSI SQL compliant", 
            "metadata": {}, 
            "cell_type": "markdown"
        }, 
        {
            "source": "### Instead of using SQL, Spark dataframes also support a Domain Specific Language (DSL) which is equivalent to SQL. For example, the select statement above can be rewritten as", 
            "metadata": {}, 
            "cell_type": "markdown"
        }, 
        {
            "execution_count": null, 
            "source": "myDF2 = salesDF.filter(\"CITY='Toronto'\")\nmyDF2.show()", 
            "metadata": {
                "collapsed": false
            }, 
            "outputs": [], 
            "cell_type": "code"
        }, 
        {
            "source": "### This DSL also supports joins, aggregations, group bys, etc...", 
            "metadata": {}, 
            "cell_type": "markdown"
        }, 
        {
            "source": "### Introduction to \"withColumn\".\n### withColumn allows you to define (and add) a new column to a dataframe. Example:", 
            "metadata": {}, 
            "cell_type": "markdown"
        }, 
        {
            "execution_count": null, 
            "source": "myDF3 = myDF.withColumn(\"NEWCOL\", myDF2['ADDRESS1'][0:9])\nmyDF3.show()", 
            "metadata": {
                "collapsed": false
            }, 
            "outputs": [], 
            "cell_type": "code"
        }, 
        {
            "source": "### We can convert between Spark and Pandas dataframes with ease. Pandas can display the data in a nice html formatted table.", 
            "metadata": {}, 
            "cell_type": "markdown"
        }, 
        {
            "execution_count": null, 
            "source": "myDF2p = myDF2.toPandas()\nmyDF2p", 
            "metadata": {
                "collapsed": false
            }, 
            "outputs": [], 
            "cell_type": "code"
        }, 
        {
            "source": "### We can now use all Pandas capabilities such as the \"count\" method to get an analysis on the data in the dataframe. <br> You can look more at more Pandas capabilities in the \"BlocPower\" notebook available at this URL: https://github.com/IBMDataScience/SparkSummitDemo", 
            "metadata": {}, 
            "cell_type": "markdown"
        }, 
        {
            "execution_count": null, 
            "source": "myDF2p.count()", 
            "metadata": {
                "collapsed": false
            }, 
            "outputs": [], 
            "cell_type": "code"
        }, 
        {
            "execution_count": null, 
            "source": "", 
            "metadata": {
                "collapsed": true
            }, 
            "outputs": [], 
            "cell_type": "code"
        }
    ]
}